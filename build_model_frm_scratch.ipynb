{
 "cells": [
  {
   "cell_type": "code",
   "execution_count": 1,
   "id": "4e0ffe5c-7acc-4509-8373-4e2212260b9c",
   "metadata": {},
   "outputs": [],
   "source": [
    "# need to import torch obviously \n",
    "import torch\n"
   ]
  },
  {
   "cell_type": "code",
   "execution_count": 3,
   "id": "4cbe8add-74e0-4b5a-b1e5-02ef4fe6419b",
   "metadata": {},
   "outputs": [],
   "source": [
    "# need a function called create layers \n",
    "# The function needs to take in the input size and the number of neurons\n",
    "# should return functions like feed_forward(input -> torch.tensor(batch, input))->(batch, input_dim_no_of_neurons), show_weights()\n",
    "def create_layer(input_dim, no_of_neurons, activation_function, layer_name):\n",
    "    # keeping all the vars explicit\n",
    "\n",
    "    # need a weight tensor \n",
    "    weights = torch.randn(no_of_neurons, input_dim)  # shape: (no_of_neurons, input_dim)\n",
    "\n",
    "    # dimension of the weights\n",
    "    weights_dim = (no_of_neurons, input_dim)\n",
    "\n",
    "    # dimension of the transpose \n",
    "    weights_transpose_dim = (input_dim, no_of_neurons)  # note: not needed in code, just for tracking\n",
    "\n",
    "    # forgot about bias\n",
    "    # we need to create a 1D tensor of biases \n",
    "    bias = torch.randn(no_of_neurons)  # shape: (no_of_neurons,)\n",
    "\n",
    "    def feed_forward(input_matrix):\n",
    "        # input_matrix shape: (batch_size, input_dim)\n",
    "        if input_matrix.shape[-1] != weights.shape[1]:\n",
    "            raise ValueError(\"matrix multiplication invalid in layer \" + layer_name)\n",
    "        return activation_function(input_matrix @ weights.T + bias)\n",
    "\n",
    "    def show_weights():\n",
    "        # this function will be used to show weights\n",
    "        print(f\"Layer: {layer_name}\")\n",
    "        print(\"Weights:\")\n",
    "        print(weights)\n",
    "        print(\"Biases:\")\n",
    "        print(bias)\n",
    "\n",
    "    # return both functions together in a dictionary for access\n",
    "    return {\n",
    "        \"forward\": feed_forward,\n",
    "        \"show_weights\": show_weights,\n",
    "        \"weights\": weights,\n",
    "        \"bias\": bias,\n",
    "        \"name\": layer_name\n",
    "    }\n"
   ]
  },
  {
   "cell_type": "code",
   "execution_count": null,
   "id": "085360f6-d1e5-40f0-9f11-243950f52a33",
   "metadata": {},
   "outputs": [],
   "source": []
  }
 ],
 "metadata": {
  "kernelspec": {
   "display_name": "Python 3 (ipykernel)",
   "language": "python",
   "name": "python3"
  },
  "language_info": {
   "codemirror_mode": {
    "name": "ipython",
    "version": 3
   },
   "file_extension": ".py",
   "mimetype": "text/x-python",
   "name": "python",
   "nbconvert_exporter": "python",
   "pygments_lexer": "ipython3",
   "version": "3.12.4"
  }
 },
 "nbformat": 4,
 "nbformat_minor": 5
}
